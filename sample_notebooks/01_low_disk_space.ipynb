{
 "cells": [
  {
   "cell_type": "markdown",
   "metadata": {},
   "source": [
    "# Low Disk Space Runbook\n",
    "\n",
    "When you get an incident about low disk space on a node, the culprit is most likely too many files in the `/tmp` directory. These temporary files are there to optimize the performance of the customer's applications, but there are cases when these files can fill up the disk on the virtual machine.\n",
    "\n",
    "- Find the customer id and IP address of the affected virtual machine from the incident.\n",
    "- SSH into the virtual machine and delete the temporary files for that customer.\n",
    "\n",
    "    ```bash\n",
    "    ssh ubuntu@<IP address>\n",
    "    rm -rf /tmp/<customer_id>\n",
    "    ```\n",
    "- If the disk space monitor on AlertManager is still showing up as unhealthy, upgrade the incident to a Sev 2 and request assistance from the Data Engineering team."
   ]
  },
  {
   "cell_type": "markdown",
   "metadata": {},
   "source": []
  }
 ],
 "metadata": {
  "language_info": {
   "name": "python"
  },
  "orig_nbformat": 4
 },
 "nbformat": 4,
 "nbformat_minor": 2
}
