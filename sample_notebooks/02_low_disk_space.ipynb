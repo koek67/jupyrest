{
 "cells": [
  {
   "cell_type": "code",
   "execution_count": null,
   "metadata": {
    "tags": [
     "parameters"
    ]
   },
   "outputs": [],
   "source": [
    "# Default parameters\n",
    "customer_id = \"<customer id>\"\n",
    "ip_address = \"<ip address>\""
   ]
  },
  {
   "cell_type": "markdown",
   "metadata": {},
   "source": [
    "# Low Disk Space Runbook\n",
    "\n",
    "When you get an incident about low disk space on a node, the culprit is most likely too many files in the `/tmp` directory. These temporary files are there to optimize the performance of the customer's applications, but there are cases when these files can fill up the disk on the virtual machine.\n",
    "\n",
    "- Find the customer id and IP address of the affected virtual machine from the incident.\n",
    "- SSH into the virtual machine and delete the temporary files for that customer."
   ]
  },
  {
   "cell_type": "code",
   "execution_count": null,
   "metadata": {},
   "outputs": [],
   "source": [
    "print(f\"ssh ubuntu@{ip_address}\")\n",
    "print(f\"rm -rf /tmp/{customer_id}\")"
   ]
  },
  {
   "cell_type": "markdown",
   "metadata": {},
   "source": [
    "- If the disk space monitor on AlertManager is still showing up as unhealthy, upgrade the incident to a Sev 2 and request assistance from the Data Engineering team."
   ]
  },
  {
   "cell_type": "markdown",
   "metadata": {},
   "source": []
  }
 ],
 "metadata": {
  "kernelspec": {
   "display_name": "Python 3 (ipykernel)",
   "language": "python",
   "name": "python3"
  },
  "language_info": {
   "codemirror_mode": {
    "name": "ipython",
    "version": 3
   },
   "file_extension": ".py",
   "mimetype": "text/x-python",
   "name": "python",
   "nbconvert_exporter": "python",
   "pygments_lexer": "ipython3",
   "version": "3.8.13"
  },
  "vscode": {
   "interpreter": {
    "hash": "72740e991463dc95528badfbd170fe9188093c49acd748f48e92fcb79cf0e699"
   }
  }
 },
 "nbformat": 4,
 "nbformat_minor": 2
}
