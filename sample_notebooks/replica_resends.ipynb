{
 "cells": [
  {
   "cell_type": "markdown",
   "id": "6c9099d3-cbc3-4834-a346-8ae969a78b7c",
   "metadata": {},
   "source": [
    "# Replica Resends Runbook\n",
    "\n",
    "This runbook identifies and annotates replicas that are unable to reliable trasnmit data between each other."
   ]
  },
  {
   "cell_type": "code",
   "execution_count": null,
   "id": "a49910cf-1b08-4dbc-856b-9eac9485065c",
   "metadata": {},
   "outputs": [],
   "source": [
    "from jupyrest.helpers import Replica, save_graph, ReplicaResends\n",
    "from datetime import datetime"
   ]
  },
  {
   "cell_type": "code",
   "execution_count": null,
   "id": "171346f9-ae92-4df3-b7b4-4b25592ee9ef",
   "metadata": {
    "tags": [
     "parameters"
    ]
   },
   "outputs": [],
   "source": [
    "# Default parameters\n",
    "src_replica_id = \"xxx\"\n",
    "dest_replica_id = \"xxx\"\n",
    "incident_time = \"xxx\"\n",
    "incident_id = \"xxx\""
   ]
  },
  {
   "cell_type": "markdown",
   "id": "bde46908-76f0-494a-af9e-7be44d41b718",
   "metadata": {},
   "source": [
    "Annotate the replicas with the high replication latency information."
   ]
  },
  {
   "cell_type": "code",
   "execution_count": null,
   "id": "e88619d9-8852-48a6-b1ff-1fe320d9efbb",
   "metadata": {
    "tags": []
   },
   "outputs": [],
   "source": [
    "src_replica = Replica(replica_id=src_replica_id)\n",
    "dest_replica = Replica(replica_id=dest_replica_id)\n",
    "\n",
    "replication_resends = ReplicaResends(\n",
    "    incident_id=incident_id,\n",
    "    incident_time=datetime.fromisoformat(incident_time),\n",
    "    src_replica=src_replica,\n",
    "    dest_replica=dest_replica\n",
    ")"
   ]
  },
  {
   "cell_type": "code",
   "execution_count": null,
   "id": "36ec1b9c-8e34-4ade-87c7-8a33a0d5c9ce",
   "metadata": {},
   "outputs": [],
   "source": [
    "from jupyrest.graph import create_graph, visualize\n",
    "\n",
    "g = create_graph(replication_resends)\n",
    "visualize(g)"
   ]
  },
  {
   "cell_type": "code",
   "execution_count": null,
   "id": "4807b1e2-b9fa-4e19-8180-160d577abbec",
   "metadata": {},
   "outputs": [],
   "source": [
    "save_graph(replication_resends, g)"
   ]
  }
 ],
 "metadata": {
  "kernelspec": {
   "display_name": "Python 3 (ipykernel)",
   "language": "python",
   "name": "python3"
  },
  "language_info": {
   "codemirror_mode": {
    "name": "ipython",
    "version": 3
   },
   "file_extension": ".py",
   "mimetype": "text/x-python",
   "name": "python",
   "nbconvert_exporter": "python",
   "pygments_lexer": "ipython3",
   "version": "3.8.13"
  }
 },
 "nbformat": 4,
 "nbformat_minor": 5
}
