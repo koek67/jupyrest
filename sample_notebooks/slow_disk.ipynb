{
 "cells": [
  {
   "cell_type": "markdown",
   "id": "f75d1e43-0937-4eba-aa71-e5ddfb8c94a4",
   "metadata": {},
   "source": [
    "# Slow Disk Runbook\n",
    "\n",
    "This runbook identifies a virtual machine with a slow disk."
   ]
  },
  {
   "cell_type": "code",
   "execution_count": null,
   "id": "832d6682-c576-4d7e-b5e5-05037d5f98f5",
   "metadata": {},
   "outputs": [],
   "source": [
    "from jupyrest.helpers import Node, SlowDisk, save_graph\n",
    "from datetime import datetime"
   ]
  },
  {
   "cell_type": "code",
   "execution_count": null,
   "id": "1c70a3da-132e-4f9a-a5f3-f39ace94e00f",
   "metadata": {
    "tags": [
     "parameters"
    ]
   },
   "outputs": [],
   "source": [
    "# Default parameters\n",
    "node_id = \"xxx\"\n",
    "incident_time = \"xxx\"\n",
    "incident_id = \"xxx\""
   ]
  },
  {
   "cell_type": "markdown",
   "id": "7c3a3b88-9c3e-46cc-b150-2c23c4d9c082",
   "metadata": {},
   "source": [
    "Annotate the affected node with the slow disk information."
   ]
  },
  {
   "cell_type": "code",
   "execution_count": null,
   "id": "5cb78360-b04f-4436-a37a-4a4be086d618",
   "metadata": {},
   "outputs": [],
   "source": [
    "slow_node = Node(node_id=node_id)\n",
    "\n",
    "slow_disk = SlowDisk(\n",
    "    incident_id=incident_id,\n",
    "    incident_time=datetime.fromisoformat(incident_time),\n",
    "    node=slow_node\n",
    ")"
   ]
  },
  {
   "cell_type": "code",
   "execution_count": null,
   "id": "e02db3f6-c4b1-4f25-b690-27c8f6fb2b5f",
   "metadata": {},
   "outputs": [],
   "source": [
    "from jupyrest.graph import visualize, create_graph"
   ]
  },
  {
   "cell_type": "code",
   "execution_count": null,
   "id": "be525d30-2fee-4865-bd9b-4b712fe60af9",
   "metadata": {},
   "outputs": [],
   "source": [
    "g = create_graph(slow_disk)\n",
    "visualize(g)"
   ]
  },
  {
   "cell_type": "code",
   "execution_count": null,
   "id": "df3f6215-5def-4902-a138-b9b6c3d77845",
   "metadata": {},
   "outputs": [],
   "source": [
    "save_graph(slow_disk, g)"
   ]
  }
 ],
 "metadata": {
  "kernelspec": {
   "display_name": "Python 3 (ipykernel)",
   "language": "python",
   "name": "python3"
  },
  "language_info": {
   "codemirror_mode": {
    "name": "ipython",
    "version": 3
   },
   "file_extension": ".py",
   "mimetype": "text/x-python",
   "name": "python",
   "nbconvert_exporter": "python",
   "pygments_lexer": "ipython3",
   "version": "3.8.13"
  },
  "toc-autonumbering": false,
  "toc-showcode": false,
  "toc-showmarkdowntxt": false
 },
 "nbformat": 4,
 "nbformat_minor": 5
}
